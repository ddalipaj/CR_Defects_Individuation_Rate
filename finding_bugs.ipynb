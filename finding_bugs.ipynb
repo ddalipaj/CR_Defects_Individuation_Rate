{
 "cells": [
  {
   "cell_type": "markdown",
   "metadata": {},
   "source": [
    "# Identifying bugs from launchpad\n",
    "\n",
    "From the way Launchpad works the flow for a ticket opening in launchpad is:\n",
    "1. a ticket, stating a possible bug, is opened in launchpad and its status is New,\n",
    "2. if the problem stated in the ticket is reproduced than the bug is confirmed as genuine and the ticket status passes from New to Confirmed,\n",
    "3. only when a bug is confirmed, the status then changes from Confirmed to In Progress in the same time that an issue that will try to solve the bug is opened in gerrit.\n",
    "\n",
    "Tracing this flow, which data's can be extracted from the launchpad database, we can automatically identify bugs..."
   ]
  },
  {
   "cell_type": "code",
   "execution_count": 2,
   "metadata": {
    "collapsed": true
   },
   "outputs": [],
   "source": [
    "# importing needed libraries and establishing a connection to the database\n",
    "import MySQLdb\n",
    "import pandas\n",
    "\n",
    "def connect():\n",
    "   user = \"root\"\n",
    "   password = \"\"\n",
    "   host = \"localhost\"\n",
    "   db = \"tickets\"\n",
    "   port=3306\n",
    "   use_unicode=True\n",
    "\n",
    "   try:\n",
    "      db = MySQLdb.connect(user = user, passwd = password, db = db, port = port, use_unicode = use_unicode)\n",
    "      return db, db.cursor()\n",
    "   except:\n",
    "      logging.error(\"Database connection error!\")\n",
    "      raise\n",
    "        \n",
    "def execute_query(connector, query):\n",
    "   results = int (connector.execute(query))\n",
    "   cont = 0\n",
    "   if results > 0:\n",
    "      result1 = connector.fetchall()\n",
    "      return result1\n",
    "   else:\n",
    "      return []\n",
    "    \n",
    "db, cursor = connect()"
   ]
  },
  {
   "cell_type": "code",
   "execution_count": 6,
   "metadata": {
    "collapsed": false
   },
   "outputs": [
    {
     "data": {
      "text/plain": [
       "213L"
      ]
     },
     "execution_count": 6,
     "metadata": {},
     "output_type": "execute_result"
    }
   ],
   "source": [
    "# Let's extract number of projects affected by these tickets\n",
    "cursor.execute(\"\"\" select distinct tracker_id\n",
    "from issues \"\"\")"
   ]
  },
  {
   "cell_type": "code",
   "execution_count": 7,
   "metadata": {
    "collapsed": false
   },
   "outputs": [
    {
     "data": {
      "text/plain": [
       "299L"
      ]
     },
     "execution_count": 7,
     "metadata": {},
     "output_type": "execute_result"
    }
   ],
   "source": [
    "# Let's extract the total number of projects in Open Stack\n",
    "cursor.execute(\"\"\" select distinct id\n",
    "from trackers \"\"\")"
   ]
  },
  {
   "cell_type": "markdown",
   "metadata": {},
   "source": [
    "## Result:\n",
    "213 projects out of 299 in Open Stack are active. \n",
    "However, for the scope of this study, we will focus on the nine key components that are a part of \n",
    "the \"core\" of OpenStack, are distributed as a part of any OpenStack system, and officially maintained by the OpenStack community: Nova, Swift, Cinder, Neutron, Horizon, Keystone, Glance, Ceilometer, and Heat.   "
   ]
  },
  {
   "cell_type": "markdown",
   "metadata": {},
   "source": [
    "# Extraction of the bugs in Open Stack"
   ]
  },
  {
   "cell_type": "code",
   "execution_count": 5,
   "metadata": {
    "collapsed": false
   },
   "outputs": [
    {
     "data": {
      "text/plain": [
       "88421L"
      ]
     },
     "execution_count": 5,
     "metadata": {},
     "output_type": "execute_result"
    }
   ],
   "source": [
    "# Let's first see the number of the total tickets in Launchpad\n",
    "cursor.execute(\"\"\" select id, issue\n",
    "from issues \"\"\")"
   ]
  },
  {
   "cell_type": "code",
   "execution_count": 8,
   "metadata": {
    "collapsed": false
   },
   "outputs": [
    {
     "data": {
      "text/plain": [
       "82981L"
      ]
     },
     "execution_count": 8,
     "metadata": {},
     "output_type": "execute_result"
    }
   ],
   "source": [
    "# Now let's see how many of them are distinct tickets\n",
    "cursor.execute(\"\"\" select distinct issue\n",
    "from issues \"\"\")"
   ]
  },
  {
   "cell_type": "code",
   "execution_count": 9,
   "metadata": {
    "collapsed": false
   },
   "outputs": [
    {
     "name": "stderr",
     "output_type": "stream",
     "text": [
      "/home/seneca/V-ENV/ipython-S/lib/python2.7/site-packages/ipykernel/__main__.py:21: Warning: Incorrect datetime value: '' for column 'date_confirmed' at row 1\n",
      "/home/seneca/V-ENV/ipython-S/lib/python2.7/site-packages/ipykernel/__main__.py:21: Warning: Incorrect datetime value: '' for column 'date_in_progress' at row 1\n"
     ]
    },
    {
     "data": {
      "text/plain": [
       "57720L"
      ]
     },
     "execution_count": 9,
     "metadata": {},
     "output_type": "execute_result"
    }
   ],
   "source": [
    "# Extracting the tickets from launchpad that do follow the flow: New -> Confirmed -> In progress. \n",
    "# Will store these datas in a table for facilitating later use. \n",
    "# Note: this datas contain duplicated issue\n",
    "cursor.execute(\"\"\" create table bugs as\n",
    "select ie.id,\n",
    "       ie.status, \n",
    "       ie.issue_id,\n",
    "       i.issue,\n",
    "       ie.title, \n",
    "       ie.description, \n",
    "       ie.web_link, \n",
    "       ie.date_created, \n",
    "       ie.date_confirmed, \n",
    "       ie.date_in_progress,\n",
    "       i.tracker_id\n",
    "from issues_ext_launchpad ie\n",
    "inner join issues i\n",
    "on ie.issue_id=i.id\n",
    "where ie.date_confirmed != '' \n",
    "and ie.date_in_progress != ''\n",
    "\"\"\")"
   ]
  },
  {
   "cell_type": "code",
   "execution_count": 10,
   "metadata": {
    "collapsed": false
   },
   "outputs": [
    {
     "data": {
      "text/plain": [
       "55061L"
      ]
     },
     "execution_count": 10,
     "metadata": {},
     "output_type": "execute_result"
    }
   ],
   "source": [
    "# let's see how many of these are distinct issues\n",
    "cursor.execute(\"\"\" select distinct issue from bugs \"\"\")"
   ]
  },
  {
   "cell_type": "markdown",
   "metadata": {},
   "source": [
    "## Results: \n",
    "\n",
    "(when we talk about tickets we are talking about reports)\n",
    "\n",
    "1. 82981 tickets out of 88421 are distinct. This means that 9,4% of the total tickets are duplicated.\n",
    "2. 57720 tickets out of 88421 are bugs (functional). This means that 65.3% of the tickets are bugs.\n",
    "3. Only 34,7% of the tickets are not clasified as bugs, have been abandoned for some reason, or are still New and being analysed."
   ]
  },
  {
   "cell_type": "markdown",
   "metadata": {},
   "source": [
    "## Analysis of the time from the moment the ticket first appears to launchpad to the moment it is confirmed as a bug. "
   ]
  },
  {
   "cell_type": "code",
   "execution_count": 38,
   "metadata": {
    "collapsed": true
   },
   "outputs": [],
   "source": [
    "# time effort to confirm that a ticket is describing a bug - time to classify a ticket\n",
    "query = \"\"\" select issue,\n",
    "                   date_created,\n",
    "                   date_confirmed,\n",
    "                   timestampdiff(SECOND, date_created, date_confirmed) as time2classify,\n",
    "                   tracker_id\n",
    "            from bugs \"\"\""
   ]
  },
  {
   "cell_type": "code",
   "execution_count": 39,
   "metadata": {
    "collapsed": true
   },
   "outputs": [],
   "source": [
    "data = execute_query(cursor, query)"
   ]
  },
  {
   "cell_type": "code",
   "execution_count": 40,
   "metadata": {
    "collapsed": true
   },
   "outputs": [],
   "source": [
    "data_list = list(data)"
   ]
  },
  {
   "cell_type": "code",
   "execution_count": 41,
   "metadata": {
    "collapsed": false
   },
   "outputs": [
    {
     "data": {
      "text/plain": [
       "['issue', 'date_created', 'date_confirmed', 'time2classify', 'tracker_id']"
      ]
     },
     "execution_count": 41,
     "metadata": {},
     "output_type": "execute_result"
    }
   ],
   "source": [
    "pandas_ds = pandas.DataFrame(data_list, columns=[\"issue\", \"date_created\", \"date_confirmed\", \"time2classify\", \"tracker_id\"])\n",
    "pandas_ds.columns.values.tolist()"
   ]
  },
  {
   "cell_type": "code",
   "execution_count": 43,
   "metadata": {
    "collapsed": false
   },
   "outputs": [],
   "source": [
    "time2classify = pandas_ds[\"time2classify\"]"
   ]
  },
  {
   "cell_type": "code",
   "execution_count": 66,
   "metadata": {
    "collapsed": false
   },
   "outputs": [
    {
     "name": "stdout",
     "output_type": "stream",
     "text": [
      "Mean Time for classifying a ticket: 299.554775 hours\n",
      "Median Time for classifying a ticket: 1.960972 hours\n",
      "Quantiles: \n",
      "0.25       273.0\n",
      "0.50      7059.5\n",
      "0.75    257626.0\n",
      "Name: time2classify, dtype: float64\n"
     ]
    }
   ],
   "source": [
    "#Some statistics about the time to classify the ticket\n",
    "print \"Mean Time for classifying a ticket: %f hours\" % (time2classify.mean()/3600.0)\n",
    "print \"Median Time for classifying a ticket: %f hours\" % (time2classify.median()/3600.0)\n",
    "print \"Quantiles: \"\n",
    "print time2classify.quantile([0.25, 0.5, 0.75])"
   ]
  },
  {
   "cell_type": "code",
   "execution_count": 56,
   "metadata": {
    "collapsed": false
   },
   "outputs": [
    {
     "name": "stdout",
     "output_type": "stream",
     "text": [
      "Populating the interactive namespace from numpy and matplotlib\n"
     ]
    },
    {
     "data": {
      "text/plain": [
       "<matplotlib.axes._subplots.AxesSubplot at 0x7fb21578fcd0>"
      ]
     },
     "execution_count": 56,
     "metadata": {},
     "output_type": "execute_result"
    },
    {
     "data": {
      "image/png": "[encoded data removed]",
      "text/plain": [
       "<matplotlib.figure.Figure at 0x7fb219614750>"
      ]
     },
     "metadata": {},
     "output_type": "display_data"
    }
   ],
   "source": [
    "# Lets have a look at the boxplots without logaritmic scale\n",
    "%pylab inline\n",
    "pandas_ds[\"time2classify\"].plot(kind=\"hist\")"
   ]
  },
  {
   "cell_type": "code",
   "execution_count": 52,
   "metadata": {
    "collapsed": false
   },
   "outputs": [
    {
     "data": {
      "text/plain": [
       "19"
      ]
     },
     "execution_count": 52,
     "metadata": {},
     "output_type": "execute_result"
    }
   ],
   "source": [
    "# select min time for classifying a ticket\n",
    "\n",
    "pandas_ds['time2classify'].idxmin()"
   ]
  },
  {
   "cell_type": "code",
   "execution_count": 65,
   "metadata": {
    "collapsed": false
   },
   "outputs": [
    {
     "data": {
      "text/plain": [
       "26615"
      ]
     },
     "execution_count": 65,
     "metadata": {},
     "output_type": "execute_result"
    }
   ],
   "source": [
    "# select max time for classifying a ticket\n",
    "\n",
    "pandas_ds['time2classify'].idxmax()"
   ]
  },
  {
   "cell_type": "markdown",
   "metadata": {},
   "source": [
    "## Results:\n",
    "\n",
    "The minimum time for classifying a ticket is 19 sec (or 0.8 hours) while the maximum is 26615 sec (7,4 days)."
   ]
  },
  {
   "cell_type": "markdown",
   "metadata": {},
   "source": [
    "## Analyse of the tickets divided per project"
   ]
  },
  {
   "cell_type": "markdown",
   "metadata": {},
   "source": [
    "### 1. Nova"
   ]
  },
  {
   "cell_type": "code",
   "execution_count": 18,
   "metadata": {
    "collapsed": false
   },
   "outputs": [
    {
     "data": {
      "text/plain": [
       "8073L"
      ]
     },
     "execution_count": 18,
     "metadata": {},
     "output_type": "execute_result"
    }
   ],
   "source": [
    "# the bugs found in Nova\n",
    "cursor.execute(\"\"\" select * from bugs \n",
    "where tracker_id=47 or \n",
    "tracker_id=136 or\n",
    "tracker_id=137 or \n",
    "tracker_id=169 or \n",
    "tracker_id=200 or\n",
    "tracker_id=227 or \n",
    "tracker_id=234 or\n",
    "tracker_id=258 \"\"\")"
   ]
  },
  {
   "cell_type": "code",
   "execution_count": 20,
   "metadata": {
    "collapsed": false
   },
   "outputs": [
    {
     "data": {
      "text/plain": [
       "13018L"
      ]
     },
     "execution_count": 20,
     "metadata": {},
     "output_type": "execute_result"
    }
   ],
   "source": [
    "# all the tickets related to Nova\n",
    "cursor.execute(\"\"\" select * from issues \n",
    "where tracker_id=47 or \n",
    "tracker_id=136 or\n",
    "tracker_id=137 or \n",
    "tracker_id=169 or \n",
    "tracker_id=200 or\n",
    "tracker_id=227 or \n",
    "tracker_id=234 or\n",
    "tracker_id=258 \"\"\")"
   ]
  },
  {
   "cell_type": "markdown",
   "metadata": {},
   "source": [
    "## Results:\n",
    "\n",
    "In Nova - 8073 tickets out of 13018 are bugs. This means 62 % of tickets are bugs."
   ]
  },
  {
   "cell_type": "markdown",
   "metadata": {},
   "source": [
    "## 2. Swift"
   ]
  },
  {
   "cell_type": "code",
   "execution_count": 21,
   "metadata": {
    "collapsed": false
   },
   "outputs": [
    {
     "data": {
      "text/plain": [
       "974L"
      ]
     },
     "execution_count": 21,
     "metadata": {},
     "output_type": "execute_result"
    }
   ],
   "source": [
    "# the bugs found in Swift\n",
    "cursor.execute(\"\"\" select * from bugs\n",
    "where tracker_id=50 or \n",
    "tracker_id=173 or\n",
    "tracker_id=203 or \n",
    "tracker_id=214 \"\"\")"
   ]
  },
  {
   "cell_type": "code",
   "execution_count": 22,
   "metadata": {
    "collapsed": false
   },
   "outputs": [
    {
     "data": {
      "text/plain": [
       "1681L"
      ]
     },
     "execution_count": 22,
     "metadata": {},
     "output_type": "execute_result"
    }
   ],
   "source": [
    "# all the tickets related to Swift\n",
    "cursor.execute(\"\"\" select * from issues \n",
    "where tracker_id=50 or \n",
    "tracker_id=173 or\n",
    "tracker_id=203 or \n",
    "tracker_id=214 \"\"\")"
   ]
  },
  {
   "cell_type": "markdown",
   "metadata": {},
   "source": [
    "## Results:\n",
    "In Swift - 974 tickets out of 1681 are bugs. This means 58 % of tickets are bugs."
   ]
  },
  {
   "cell_type": "markdown",
   "metadata": {},
   "source": [
    "## 3. Cinder"
   ]
  },
  {
   "cell_type": "code",
   "execution_count": 23,
   "metadata": {
    "collapsed": false
   },
   "outputs": [
    {
     "data": {
      "text/plain": [
       "2691L"
      ]
     },
     "execution_count": 23,
     "metadata": {},
     "output_type": "execute_result"
    }
   ],
   "source": [
    "# the bugs found in Cinder\n",
    "cursor.execute(\"\"\" select * from bugs\n",
    "where tracker_id=7 or \n",
    "tracker_id=156 or\n",
    "tracker_id=182 or \n",
    "tracker_id=274 \"\"\")"
   ]
  },
  {
   "cell_type": "code",
   "execution_count": 25,
   "metadata": {
    "collapsed": false
   },
   "outputs": [
    {
     "data": {
      "text/plain": [
       "4064L"
      ]
     },
     "execution_count": 25,
     "metadata": {},
     "output_type": "execute_result"
    }
   ],
   "source": [
    "# all the tickets related to Cinder\n",
    "cursor.execute(\"\"\" select * from issues\n",
    "where tracker_id=7 or \n",
    "tracker_id=156 or\n",
    "tracker_id=182 or \n",
    "tracker_id=274 \"\"\")"
   ]
  },
  {
   "cell_type": "markdown",
   "metadata": {},
   "source": [
    "## Results:\n",
    "In Cinder 2691 tickets out of 4064 are bugs. This means 66 % of tickets are bugs.  "
   ]
  },
  {
   "cell_type": "markdown",
   "metadata": {},
   "source": [
    "## 4. Neutron"
   ]
  },
  {
   "cell_type": "code",
   "execution_count": 26,
   "metadata": {
    "collapsed": false
   },
   "outputs": [
    {
     "data": {
      "text/plain": [
       "5030L"
      ]
     },
     "execution_count": 26,
     "metadata": {},
     "output_type": "execute_result"
    }
   ],
   "source": [
    "# the bugs found in Neutron\n",
    "cursor.execute(\"\"\" select * from bugs\n",
    "where tracker_id=135 or \n",
    "tracker_id=168 or\n",
    "tracker_id=199 or \n",
    "tracker_id=243 \"\"\")"
   ]
  },
  {
   "cell_type": "code",
   "execution_count": 27,
   "metadata": {
    "collapsed": false
   },
   "outputs": [
    {
     "data": {
      "text/plain": [
       "7469L"
      ]
     },
     "execution_count": 27,
     "metadata": {},
     "output_type": "execute_result"
    }
   ],
   "source": [
    "# all the tickets related to Neutron\n",
    "cursor.execute(\"\"\" select * from issues\n",
    "where tracker_id=135 or \n",
    "tracker_id=168 or\n",
    "tracker_id=199 or \n",
    "tracker_id=243 \"\"\")"
   ]
  },
  {
   "cell_type": "markdown",
   "metadata": {},
   "source": [
    "## Results:\n",
    "In Neutron 5030 tickets out of 7469 are bugs. This means that 67 % of the tickets are bugs."
   ]
  },
  {
   "cell_type": "markdown",
   "metadata": {},
   "source": [
    "## 5. Horizon"
   ]
  },
  {
   "cell_type": "code",
   "execution_count": 28,
   "metadata": {
    "collapsed": false
   },
   "outputs": [
    {
     "data": {
      "text/plain": [
       "3526L"
      ]
     },
     "execution_count": 28,
     "metadata": {},
     "output_type": "execute_result"
    }
   ],
   "source": [
    "# the bugs found in Horizon\n",
    "cursor.execute(\"\"\" select * from bugs\n",
    "where tracker_id=26 or \n",
    "tracker_id=49 or\n",
    "tracker_id=109 or \n",
    "tracker_id=161 \"\"\")"
   ]
  },
  {
   "cell_type": "code",
   "execution_count": 29,
   "metadata": {
    "collapsed": false
   },
   "outputs": [
    {
     "data": {
      "text/plain": [
       "5349L"
      ]
     },
     "execution_count": 29,
     "metadata": {},
     "output_type": "execute_result"
    }
   ],
   "source": [
    "# all the tickets related to Horizon\n",
    "cursor.execute(\"\"\" select * from issues\n",
    "where tracker_id=26 or \n",
    "tracker_id=49 or\n",
    "tracker_id=109 or \n",
    "tracker_id=161 \"\"\")"
   ]
  },
  {
   "cell_type": "markdown",
   "metadata": {},
   "source": [
    "## Results:\n",
    "In Horizon 3526 tickets out of 5349 are bugs. This means that 66 % of the tickets are bugs."
   ]
  },
  {
   "cell_type": "markdown",
   "metadata": {},
   "source": [
    "## 6. Keystone"
   ]
  },
  {
   "cell_type": "code",
   "execution_count": 30,
   "metadata": {
    "collapsed": false
   },
   "outputs": [
    {
     "data": {
      "text/plain": [
       "2517L"
      ]
     },
     "execution_count": 30,
     "metadata": {},
     "output_type": "execute_result"
    }
   ],
   "source": [
    "# the bugs found in Keystone\n",
    "cursor.execute(\"\"\" select * from bugs\n",
    "where tracker_id=31 or \n",
    "tracker_id=110 or\n",
    "tracker_id=111 or \n",
    "tracker_id=112 or \n",
    "tracker_id=163 or\n",
    "tracker_id=189 or\n",
    "tracker_id=190 or\n",
    "tracker_id=191 \"\"\")"
   ]
  },
  {
   "cell_type": "code",
   "execution_count": 31,
   "metadata": {
    "collapsed": false
   },
   "outputs": [
    {
     "data": {
      "text/plain": [
       "4101L"
      ]
     },
     "execution_count": 31,
     "metadata": {},
     "output_type": "execute_result"
    }
   ],
   "source": [
    "# all the tickets related to Keystone\n",
    "cursor.execute(\"\"\" select * from issues\n",
    "where tracker_id=31 or \n",
    "tracker_id=110 or\n",
    "tracker_id=111 or \n",
    "tracker_id=112 or \n",
    "tracker_id=163 or\n",
    "tracker_id=189 or\n",
    "tracker_id=190 or\n",
    "tracker_id=191 \"\"\")"
   ]
  },
  {
   "cell_type": "markdown",
   "metadata": {},
   "source": [
    "## Results:\n",
    "In Horizon 2517 tickets out of 4101 are bugs. This means that 61 % of the tickets are bugs."
   ]
  },
  {
   "cell_type": "markdown",
   "metadata": {},
   "source": [
    "## 7. Glance"
   ]
  },
  {
   "cell_type": "code",
   "execution_count": 32,
   "metadata": {
    "collapsed": false
   },
   "outputs": [
    {
     "data": {
      "text/plain": [
       "1826L"
      ]
     },
     "execution_count": 32,
     "metadata": {},
     "output_type": "execute_result"
    }
   ],
   "source": [
    "# the bugs found in Glance\n",
    "cursor.execute(\"\"\" select * from bugs\n",
    "where tracker_id=20 or \n",
    "tracker_id=102 or\n",
    "tracker_id=158 or \n",
    "tracker_id=186 \"\"\")"
   ]
  },
  {
   "cell_type": "code",
   "execution_count": 33,
   "metadata": {
    "collapsed": false
   },
   "outputs": [
    {
     "data": {
      "text/plain": [
       "2895L"
      ]
     },
     "execution_count": 33,
     "metadata": {},
     "output_type": "execute_result"
    }
   ],
   "source": [
    "# all the tickets related to Glance\n",
    "cursor.execute(\"\"\" select * from issues\n",
    "where tracker_id=20 or \n",
    "tracker_id=102 or\n",
    "tracker_id=158 or \n",
    "tracker_id=186 \"\"\")"
   ]
  },
  {
   "cell_type": "markdown",
   "metadata": {},
   "source": [
    "## Results:\n",
    "In Glance 1826 tickets out of 2895 are bugs. This means that 63 % tickets are bugs."
   ]
  },
  {
   "cell_type": "markdown",
   "metadata": {},
   "source": [
    "## 8. Ceilometer"
   ]
  },
  {
   "cell_type": "code",
   "execution_count": 34,
   "metadata": {
    "collapsed": false
   },
   "outputs": [
    {
     "data": {
      "text/plain": [
       "1302L"
      ]
     },
     "execution_count": 34,
     "metadata": {},
     "output_type": "execute_result"
    }
   ],
   "source": [
    "# the bugs found in Ceilometer\n",
    "cursor.execute(\"\"\" select * from bugs\n",
    "where tracker_id=6 or \n",
    "tracker_id=80 or\n",
    "tracker_id=155 or \n",
    "tracker_id=181 or\n",
    "tracker_id=236 or\n",
    "tracker_id=257 or\n",
    "tracker_id=272 \"\"\")"
   ]
  },
  {
   "cell_type": "code",
   "execution_count": 35,
   "metadata": {
    "collapsed": false
   },
   "outputs": [
    {
     "data": {
      "text/plain": [
       "1880L"
      ]
     },
     "execution_count": 35,
     "metadata": {},
     "output_type": "execute_result"
    }
   ],
   "source": [
    "# all the tickets related to Ceilometer\n",
    "cursor.execute(\"\"\" select * from issues\n",
    "where tracker_id=6 or \n",
    "tracker_id=80 or\n",
    "tracker_id=155 or \n",
    "tracker_id=181 or\n",
    "tracker_id=236 or\n",
    "tracker_id=257 or\n",
    "tracker_id=272 \"\"\")"
   ]
  },
  {
   "cell_type": "markdown",
   "metadata": {},
   "source": [
    "## Results:\n",
    "In Ceilometer 1302 tickets out of 1880 are bugs. This means that 69 % of tickets are bugs."
   ]
  },
  {
   "cell_type": "markdown",
   "metadata": {},
   "source": [
    "## 9. Heat "
   ]
  },
  {
   "cell_type": "code",
   "execution_count": 36,
   "metadata": {
    "collapsed": false
   },
   "outputs": [
    {
     "data": {
      "text/plain": [
       "2218L"
      ]
     },
     "execution_count": 36,
     "metadata": {},
     "output_type": "execute_result"
    }
   ],
   "source": [
    "# the bugs found in Heat\n",
    "cursor.execute(\"\"\" select * from bugs\n",
    "where tracker_id=24 or \n",
    "tracker_id=25 or\n",
    "tracker_id=106 or \n",
    "tracker_id=107 or \n",
    "tracker_id=108 or\n",
    "tracker_id=160 or\n",
    "tracker_id=187 \"\"\")"
   ]
  },
  {
   "cell_type": "code",
   "execution_count": 37,
   "metadata": {
    "collapsed": false
   },
   "outputs": [
    {
     "data": {
      "text/plain": [
       "3125L"
      ]
     },
     "execution_count": 37,
     "metadata": {},
     "output_type": "execute_result"
    }
   ],
   "source": [
    "# all the tickets related to Heat\n",
    "cursor.execute(\"\"\" select * from issues\n",
    "where tracker_id=24 or \n",
    "tracker_id=25 or\n",
    "tracker_id=106 or \n",
    "tracker_id=107 or \n",
    "tracker_id=108 or\n",
    "tracker_id=160 or\n",
    "tracker_id=187 \"\"\")"
   ]
  },
  {
   "cell_type": "markdown",
   "metadata": {},
   "source": [
    "## Results:\n",
    "In Heat 2218 tickets out of 3125 are bugs. This means 71 % of tickets are bugs."
   ]
  },
  {
   "cell_type": "markdown",
   "metadata": {},
   "source": [
    "## 10. Other Projects"
   ]
  },
  {
   "cell_type": "code",
   "execution_count": null,
   "metadata": {
    "collapsed": true
   },
   "outputs": [],
   "source": [
    "# the bugs found in Other Projects\n",
    "cursor.execute(\"\"\" select * from bugs\n",
    "where tracker_id=135 or \n",
    "tracker_id=168 or\n",
    "tracker_id=199 or \n",
    "tracker_id=243\"\"\")"
   ]
  },
  {
   "cell_type": "code",
   "execution_count": null,
   "metadata": {
    "collapsed": true
   },
   "outputs": [],
   "source": [
    "# all the tickets related to Other Projects\n",
    "cursor.execute(\"\"\" select * from issues\n",
    "where tracker_id=135 or \n",
    "tracker_id=168 or\n",
    "tracker_id=199 or \n",
    "tracker_id=243\"\"\")"
   ]
  },
  {
   "cell_type": "markdown",
   "metadata": {},
   "source": [
    "# Tickets analysed in Cinder"
   ]
  },
  {
   "cell_type": "code",
   "execution_count": 32,
   "metadata": {
    "collapsed": false
   },
   "outputs": [
    {
     "data": {
      "text/plain": [
       "96L"
      ]
     },
     "execution_count": 32,
     "metadata": {},
     "output_type": "execute_result"
    }
   ],
   "source": [
    "# from the table ComparationCinder, provided by Gema, let's extract the issues that have been classified as bugs, \n",
    "# and can be found in the table bugs. \n",
    "# Note: the query selects distinct issues from table bugs, whereas the table ComparationCinder contains duplicated \n",
    "# TicketIds, that will distinct subsequently.\n",
    "cursor.execute(\"\"\" select distinct b.issue\n",
    "from bugs b\n",
    "inner join ComparationCinder c\n",
    "on b.issue=c.TicketID\n",
    "where c.Classification='Bug' \"\"\")"
   ]
  },
  {
   "cell_type": "code",
   "execution_count": 21,
   "metadata": {
    "collapsed": false
   },
   "outputs": [
    {
     "data": {
      "text/plain": [
       "96L"
      ]
     },
     "execution_count": 21,
     "metadata": {},
     "output_type": "execute_result"
    }
   ],
   "source": [
    "# Now, lets extract the distinct issues from the table ComparationCinder that have been classified as bugs \n",
    "cursor.execute(\"\"\" select distinct TicketId from ComparationCinder where Classification='Bug' \"\"\")"
   ]
  },
  {
   "cell_type": "markdown",
   "metadata": {},
   "source": [
    "### Results: \n",
    "We see from the results that all the tickets classified as bugs from ComparationCinder are found in table bugs."
   ]
  },
  {
   "cell_type": "code",
   "execution_count": 33,
   "metadata": {
    "collapsed": false
   },
   "outputs": [
    {
     "data": {
      "text/plain": [
       "47L"
      ]
     },
     "execution_count": 33,
     "metadata": {},
     "output_type": "execute_result"
    }
   ],
   "source": [
    "# from the table ComparationCinder, provided by Gema, let's extract the issues that have been classified as not bugs, \n",
    "# and check wether they can be found or not in the table bugs. \n",
    "# Note: the query selects distinct issues from table bugs, whereas the table ComparationCinder contains duplicated \n",
    "# TicketIds, that will distinct subsequently.\n",
    "cursor.execute(\"\"\" select distinct b.issue\n",
    "from bugs b\n",
    "inner join ComparationCinder c\n",
    "on b.issue=c.TicketID\n",
    "where c.Classification='Not_Bug' \"\"\")"
   ]
  },
  {
   "cell_type": "code",
   "execution_count": 23,
   "metadata": {
    "collapsed": false
   },
   "outputs": [
    {
     "data": {
      "text/plain": [
       "47L"
      ]
     },
     "execution_count": 23,
     "metadata": {},
     "output_type": "execute_result"
    }
   ],
   "source": [
    "# Now, lets extract the distinct issues from the table ComparationCinder that have been classified as not bugs \n",
    "cursor.execute(\"\"\" select distinct TicketId from ComparationCinder where Classification='Not_Bug' \"\"\")"
   ]
  },
  {
   "cell_type": "markdown",
   "metadata": {},
   "source": [
    "Results:\n",
    "\n",
    "We see from the results that all the tickets classified as not bugs from ComparationCinder are found in table bugs."
   ]
  },
  {
   "cell_type": "code",
   "execution_count": 34,
   "metadata": {
    "collapsed": false
   },
   "outputs": [
    {
     "data": {
      "text/plain": [
       "11L"
      ]
     },
     "execution_count": 34,
     "metadata": {},
     "output_type": "execute_result"
    }
   ],
   "source": [
    "# from the table ComparationCinder, provided by Gema, let's extract the issues that have been classified as Unknown, \n",
    "# and check wether they can be found or not in the table bugs. \n",
    "# Note: the query selects distinct issues from table bugs, whereas the table ComparationCinder contains duplicated \n",
    "# TicketIds, that will distinct subsequently.\n",
    "cursor.execute(\"\"\" select distinct b.issue\n",
    "from bugs b\n",
    "inner join ComparationCinder c\n",
    "on b.issue=c.TicketID\n",
    "where c.Classification='Unknown' \"\"\")"
   ]
  },
  {
   "cell_type": "code",
   "execution_count": 27,
   "metadata": {
    "collapsed": false
   },
   "outputs": [
    {
     "data": {
      "text/plain": [
       "11L"
      ]
     },
     "execution_count": 27,
     "metadata": {},
     "output_type": "execute_result"
    }
   ],
   "source": [
    "# Now, lets extract the distinct issues from the table ComparationCinder that have been classified as Unknown\n",
    "cursor.execute(\"\"\" select distinct TicketId from ComparationCinder where Classification='Unknown' \"\"\")"
   ]
  },
  {
   "cell_type": "markdown",
   "metadata": {},
   "source": [
    "Results:\n",
    "\n",
    "We see from the results that all the tickets classified as Unknown from ComparationCinder are found in table bugs."
   ]
  },
  {
   "cell_type": "code",
   "execution_count": null,
   "metadata": {
    "collapsed": true
   },
   "outputs": [],
   "source": []
  }
 ],
 "metadata": {
  "kernelspec": {
   "display_name": "Python 2",
   "language": "python",
   "name": "python2"
  },
  "language_info": {
   "codemirror_mode": {
    "name": "ipython",
    "version": 2
   },
   "file_extension": ".py",
   "mimetype": "text/x-python",
   "name": "python",
   "nbconvert_exporter": "python",
   "pygments_lexer": "ipython2",
   "version": "2.7.10"
  }
 },
 "nbformat": 4,
 "nbformat_minor": 0
}
