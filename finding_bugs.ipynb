{
 "cells": [
  {
   "cell_type": "markdown",
   "metadata": {},
   "source": [
    "# Identifying bugs from launchpad\n",
    "\n",
    "From the way Launchpad works the flow for a ticket opening in launchpad is:\n",
    "1. a ticket, stating a possible bug, is opened in launchpad and its status is New,\n",
    "2. if the problem stated in the ticket is reproduced than the bug is confirmed as genuine and the ticket status passes from New to Confirmed,\n",
    "3. only when a bug is confirmed, the status then changes from Confirmed to In Progress in the same time that an issue that will try to solve the bug is opened in gerrit.\n",
    "\n",
    "Tracing this flow, which data's can be extracted from the launchpad database, we can automatically identify bugs..."
   ]
  },
  {
   "cell_type": "code",
   "execution_count": 2,
   "metadata": {
    "collapsed": true
   },
   "outputs": [],
   "source": [
    "# importing needed libraries and establishing a connection to the database\n",
    "import MySQLdb\n",
    "import pandas\n",
    "\n",
    "def connect():\n",
    "   user = \"root\"\n",
    "   password = \"\"\n",
    "   host = \"localhost\"\n",
    "   db = \"tickets\"\n",
    "   port=3306\n",
    "   use_unicode=True\n",
    "\n",
    "   try:\n",
    "      db = MySQLdb.connect(user = user, passwd = password, db = db, port = port, use_unicode = use_unicode)\n",
    "      return db, db.cursor()\n",
    "   except:\n",
    "      logging.error(\"Database connection error!\")\n",
    "      raise\n",
    "        \n",
    "def execute_query(connector, query):\n",
    "   results = int (connector.execute(query))\n",
    "   cont = 0\n",
    "   if results > 0:\n",
    "      result1 = connector.fetchall()\n",
    "      return result1\n",
    "   else:\n",
    "      return []\n",
    "    \n",
    "db, cursor = connect()"
   ]
  },
  {
   "cell_type": "code",
   "execution_count": 6,
   "metadata": {
    "collapsed": false
   },
   "outputs": [
    {
     "name": "stderr",
     "output_type": "stream",
     "text": [
      "/home/seneca/V-ENV/ipython-S/lib/python2.7/site-packages/ipykernel/__main__.py:18: Warning: Incorrect datetime value: '' for column 'date_confirmed' at row 1\n",
      "/home/seneca/V-ENV/ipython-S/lib/python2.7/site-packages/ipykernel/__main__.py:18: Warning: Incorrect datetime value: '' for column 'date_in_progress' at row 1\n"
     ]
    },
    {
     "data": {
      "text/plain": [
       "57720L"
      ]
     },
     "execution_count": 6,
     "metadata": {},
     "output_type": "execute_result"
    }
   ],
   "source": [
    "# Extracting the tickets from launchpad that do follow the flow: New -> Confirmed -> In progress. \n",
    "# Will store these datas in a table for facilitating later use. \n",
    "# Note: this datas contain duplicated issue\n",
    "cursor.execute(\"\"\" create table bugs as\n",
    "select ie.id,\n",
    "       ie.status, \n",
    "       ie.issue_id,\n",
    "       i.issue,\n",
    "       ie.title, \n",
    "       ie.description, \n",
    "       ie.web_link, \n",
    "       ie.date_created, \n",
    "       ie.date_confirmed, \n",
    "       ie.date_in_progress\n",
    "from issues_ext_launchpad ie\n",
    "inner join issues i\n",
    "on ie.issue_id=i.id\n",
    "where ie.date_confirmed != '' \n",
    "and ie.date_in_progress != ''\n",
    "\"\"\")"
   ]
  },
  {
   "cell_type": "code",
   "execution_count": 17,
   "metadata": {
    "collapsed": false
   },
   "outputs": [
    {
     "data": {
      "text/plain": [
       "55061L"
      ]
     },
     "execution_count": 17,
     "metadata": {},
     "output_type": "execute_result"
    }
   ],
   "source": [
    "# let's see how many of these are distinct issues\n",
    "cursor.execute(\"\"\" select distinct issue from bugs \"\"\")"
   ]
  },
  {
   "cell_type": "markdown",
   "metadata": {},
   "source": [
    "# Tickets analysed in Cinder"
   ]
  },
  {
   "cell_type": "code",
   "execution_count": 32,
   "metadata": {
    "collapsed": false
   },
   "outputs": [
    {
     "data": {
      "text/plain": [
       "96L"
      ]
     },
     "execution_count": 32,
     "metadata": {},
     "output_type": "execute_result"
    }
   ],
   "source": [
    "# from the table ComparationCinder, provided by Gema, let's extract the issues that have been classified as bugs, \n",
    "# and can be found in the table bugs. \n",
    "# Note: the query selects distinct issues from table bugs, whereas the table ComparationCinder contains duplicated \n",
    "# TicketIds, that will distinct subsequently.\n",
    "cursor.execute(\"\"\" select distinct b.issue\n",
    "from bugs b\n",
    "inner join ComparationCinder c\n",
    "on b.issue=c.TicketID\n",
    "where c.Classification='Bug' \"\"\")"
   ]
  },
  {
   "cell_type": "code",
   "execution_count": 21,
   "metadata": {
    "collapsed": false
   },
   "outputs": [
    {
     "data": {
      "text/plain": [
       "96L"
      ]
     },
     "execution_count": 21,
     "metadata": {},
     "output_type": "execute_result"
    }
   ],
   "source": [
    "# Now, lets extract the distinct issues from the table ComparationCinder that have been classified as bugs \n",
    "cursor.execute(\"\"\" select distinct TicketId from ComparationCinder where Classification='Bug' \"\"\")"
   ]
  },
  {
   "cell_type": "markdown",
   "metadata": {},
   "source": [
    "### Results: \n",
    "We see from the results that all the tickets classified as bugs from ComparationCinder are found in table bugs."
   ]
  },
  {
   "cell_type": "code",
   "execution_count": 33,
   "metadata": {
    "collapsed": false
   },
   "outputs": [
    {
     "data": {
      "text/plain": [
       "47L"
      ]
     },
     "execution_count": 33,
     "metadata": {},
     "output_type": "execute_result"
    }
   ],
   "source": [
    "# from the table ComparationCinder, provided by Gema, let's extract the issues that have been classified as not bugs, \n",
    "# and check wether they can be found or not in the table bugs. \n",
    "# Note: the query selects distinct issues from table bugs, whereas the table ComparationCinder contains duplicated \n",
    "# TicketIds, that will distinct subsequently.\n",
    "cursor.execute(\"\"\" select distinct b.issue\n",
    "from bugs b\n",
    "inner join ComparationCinder c\n",
    "on b.issue=c.TicketID\n",
    "where c.Classification='Not_Bug' \"\"\")"
   ]
  },
  {
   "cell_type": "code",
   "execution_count": 23,
   "metadata": {
    "collapsed": false
   },
   "outputs": [
    {
     "data": {
      "text/plain": [
       "47L"
      ]
     },
     "execution_count": 23,
     "metadata": {},
     "output_type": "execute_result"
    }
   ],
   "source": [
    "# Now, lets extract the distinct issues from the table ComparationCinder that have been classified as not bugs \n",
    "cursor.execute(\"\"\" select distinct TicketId from ComparationCinder where Classification='Not_Bug' \"\"\")"
   ]
  },
  {
   "cell_type": "markdown",
   "metadata": {},
   "source": [
    "Results:\n",
    "\n",
    "We see from the results that all the tickets classified as not bugs from ComparationCinder are found in table bugs."
   ]
  },
  {
   "cell_type": "code",
   "execution_count": 34,
   "metadata": {
    "collapsed": false
   },
   "outputs": [
    {
     "data": {
      "text/plain": [
       "11L"
      ]
     },
     "execution_count": 34,
     "metadata": {},
     "output_type": "execute_result"
    }
   ],
   "source": [
    "# from the table ComparationCinder, provided by Gema, let's extract the issues that have been classified as Unknown, \n",
    "# and check wether they can be found or not in the table bugs. \n",
    "# Note: the query selects distinct issues from table bugs, whereas the table ComparationCinder contains duplicated \n",
    "# TicketIds, that will distinct subsequently.\n",
    "cursor.execute(\"\"\" select distinct b.issue\n",
    "from bugs b\n",
    "inner join ComparationCinder c\n",
    "on b.issue=c.TicketID\n",
    "where c.Classification='Unknown' \"\"\")"
   ]
  },
  {
   "cell_type": "code",
   "execution_count": 27,
   "metadata": {
    "collapsed": false
   },
   "outputs": [
    {
     "data": {
      "text/plain": [
       "11L"
      ]
     },
     "execution_count": 27,
     "metadata": {},
     "output_type": "execute_result"
    }
   ],
   "source": [
    "# Now, lets extract the distinct issues from the table ComparationCinder that have been classified as Unknown\n",
    "cursor.execute(\"\"\" select distinct TicketId from ComparationCinder where Classification='Unknown' \"\"\")"
   ]
  },
  {
   "cell_type": "markdown",
   "metadata": {},
   "source": [
    "Results:\n",
    "\n",
    "We see from the results that all the tickets classified as Unknown from ComparationCinder are found in table bugs."
   ]
  },
  {
   "cell_type": "markdown",
   "metadata": {},
   "source": [
    "# Tickets analysed in Horizon"
   ]
  },
  {
   "cell_type": "code",
   "execution_count": 31,
   "metadata": {
    "collapsed": false
   },
   "outputs": [
    {
     "name": "stderr",
     "output_type": "stream",
     "text": [
      "ERROR: An unexpected error occurred while tokenizing input\n",
      "The following traceback may be corrupted or invalid\n",
      "The error message is: ('EOF in multi-line string', (1, 29))\n",
      "\n"
     ]
    },
    {
     "ename": "OperationalError",
     "evalue": "(1412, 'Table definition has changed, please retry transaction')",
     "output_type": "error",
     "traceback": [
      "\u001b[1;31m---------------------------------------------------------------------------\u001b[0m",
      "\u001b[1;31mOperationalError\u001b[0m                          Traceback (most recent call last)",
      "\u001b[1;32m<ipython-input-31-b9b437f7b518>\u001b[0m in \u001b[0;36m<module>\u001b[1;34m()\u001b[0m\n\u001b[0;32m      7\u001b[0m \u001b[0minner\u001b[0m \u001b[0mjoin\u001b[0m \u001b[0mComparationHorizon\u001b[0m \u001b[0mh\u001b[0m\u001b[1;33m\u001b[0m\u001b[0m\n\u001b[0;32m      8\u001b[0m \u001b[0mon\u001b[0m \u001b[0mb\u001b[0m\u001b[1;33m.\u001b[0m\u001b[0missue\u001b[0m\u001b[1;33m=\u001b[0m\u001b[0mh\u001b[0m\u001b[1;33m.\u001b[0m\u001b[0mTicketID\u001b[0m\u001b[1;33m\u001b[0m\u001b[0m\n\u001b[1;32m----> 9\u001b[1;33m where h.Classification='Bug' \"\"\")\n\u001b[0m",
      "\u001b[1;32m/home/seneca/V-ENV/ipython-S/local/lib/python2.7/site-packages/MySQLdb/cursors.pyc\u001b[0m in \u001b[0;36mexecute\u001b[1;34m(self, query, args)\u001b[0m\n\u001b[0;32m    203\u001b[0m             \u001b[1;32mdel\u001b[0m \u001b[0mtb\u001b[0m\u001b[1;33m\u001b[0m\u001b[0m\n\u001b[0;32m    204\u001b[0m             \u001b[0mself\u001b[0m\u001b[1;33m.\u001b[0m\u001b[0mmessages\u001b[0m\u001b[1;33m.\u001b[0m\u001b[0mappend\u001b[0m\u001b[1;33m(\u001b[0m\u001b[1;33m(\u001b[0m\u001b[0mexc\u001b[0m\u001b[1;33m,\u001b[0m \u001b[0mvalue\u001b[0m\u001b[1;33m)\u001b[0m\u001b[1;33m)\u001b[0m\u001b[1;33m\u001b[0m\u001b[0m\n\u001b[1;32m--> 205\u001b[1;33m             \u001b[0mself\u001b[0m\u001b[1;33m.\u001b[0m\u001b[0merrorhandler\u001b[0m\u001b[1;33m(\u001b[0m\u001b[0mself\u001b[0m\u001b[1;33m,\u001b[0m \u001b[0mexc\u001b[0m\u001b[1;33m,\u001b[0m \u001b[0mvalue\u001b[0m\u001b[1;33m)\u001b[0m\u001b[1;33m\u001b[0m\u001b[0m\n\u001b[0m\u001b[0;32m    206\u001b[0m         \u001b[0mself\u001b[0m\u001b[1;33m.\u001b[0m\u001b[0m_executed\u001b[0m \u001b[1;33m=\u001b[0m \u001b[0mquery\u001b[0m\u001b[1;33m\u001b[0m\u001b[0m\n\u001b[0;32m    207\u001b[0m         \u001b[1;32mif\u001b[0m \u001b[1;32mnot\u001b[0m \u001b[0mself\u001b[0m\u001b[1;33m.\u001b[0m\u001b[0m_defer_warnings\u001b[0m\u001b[1;33m:\u001b[0m \u001b[0mself\u001b[0m\u001b[1;33m.\u001b[0m\u001b[0m_warning_check\u001b[0m\u001b[1;33m(\u001b[0m\u001b[1;33m)\u001b[0m\u001b[1;33m\u001b[0m\u001b[0m\n",
      "\u001b[1;32m/home/seneca/V-ENV/ipython-S/local/lib/python2.7/site-packages/MySQLdb/connections.pyc\u001b[0m in \u001b[0;36mdefaulterrorhandler\u001b[1;34m(***failed resolving arguments***)\u001b[0m\n\u001b[0;32m     34\u001b[0m     \u001b[1;32mdel\u001b[0m \u001b[0mcursor\u001b[0m\u001b[1;33m\u001b[0m\u001b[0m\n\u001b[0;32m     35\u001b[0m     \u001b[1;32mdel\u001b[0m \u001b[0mconnection\u001b[0m\u001b[1;33m\u001b[0m\u001b[0m\n\u001b[1;32m---> 36\u001b[1;33m     \u001b[1;32mraise\u001b[0m \u001b[0merrorclass\u001b[0m\u001b[1;33m,\u001b[0m \u001b[0merrorvalue\u001b[0m\u001b[1;33m\u001b[0m\u001b[0m\n\u001b[0m\u001b[0;32m     37\u001b[0m \u001b[1;33m\u001b[0m\u001b[0m\n\u001b[0;32m     38\u001b[0m \u001b[0mre_numeric_part\u001b[0m \u001b[1;33m=\u001b[0m \u001b[0mre\u001b[0m\u001b[1;33m.\u001b[0m\u001b[0mcompile\u001b[0m\u001b[1;33m(\u001b[0m\u001b[1;34mr\"^(\\d+)\"\u001b[0m\u001b[1;33m)\u001b[0m\u001b[1;33m\u001b[0m\u001b[0m\n",
      "\u001b[1;31mOperationalError\u001b[0m: (1412, 'Table definition has changed, please retry transaction')"
     ]
    }
   ],
   "source": [
    "# from the table ComparationCinder, provided by Gema, let's extract the issues that have been classified as bugs, \n",
    "# and can be found in the table bugs. \n",
    "# Note: the query selects distinct issues from table bugs, whereas the table ComparationCinder contains duplicated \n",
    "# TicketIds, that will distinct subsequently.\n",
    "cursor.execute(\"\"\" select distinct b.issue\n",
    "from bugs b\n",
    "inner join ComparationHorizon h\n",
    "on b.issue=h.TicketID\n",
    "where h.Classification='Bug' \"\"\")"
   ]
  },
  {
   "cell_type": "code",
   "execution_count": null,
   "metadata": {
    "collapsed": true
   },
   "outputs": [],
   "source": []
  }
 ],
 "metadata": {
  "kernelspec": {
   "display_name": "Python 2",
   "language": "python",
   "name": "python2"
  },
  "language_info": {
   "codemirror_mode": {
    "name": "ipython",
    "version": 2
   },
   "file_extension": ".py",
   "mimetype": "text/x-python",
   "name": "python",
   "nbconvert_exporter": "python",
   "pygments_lexer": "ipython2",
   "version": "2.7.10"
  }
 },
 "nbformat": 4,
 "nbformat_minor": 0
}
